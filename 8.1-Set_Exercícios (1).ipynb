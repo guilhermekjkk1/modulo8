{
  "metadata": {
    "kernelspec": {
      "name": "python",
      "display_name": "Python (Pyodide)",
      "language": "python"
    },
    "language_info": {
      "codemirror_mode": {
        "name": "python",
        "version": 3
      },
      "file_extension": ".py",
      "mimetype": "text/x-python",
      "name": "python",
      "nbconvert_exporter": "python",
      "pygments_lexer": "ipython3",
      "version": "3.8"
    }
  },
  "nbformat_minor": 5,
  "nbformat": 4,
  "cells": [
    {
      "id": "0d5035b5",
      "cell_type": "markdown",
      "source": "# Set\n\n## Aula 8.1",
      "metadata": {}
    },
    {
      "id": "0bdece85",
      "cell_type": "markdown",
      "source": "### Q1. \n\nDada uma string qualquer, use seu conhecimento de sets para apresentar os caracteres únicos que aparecem na string, ordenados alfabeticamente e sem duplicatas. Preste atenção em duplicatas de maiúsculas e minúsculas.\n",
      "metadata": {}
    },
    {
      "id": "0a258eba",
      "cell_type": "code",
      "source": "frase = \"O rato roeu a roupa do Robson\"\n\n# Solução:\ncaracteres_unicos = sorted(set(frase.lower()))\ncaracteres_unicos = [char for char in caracteres_unicos if char.isalpha()]\nprint(caracteres_unicos)\n",
      "metadata": {},
      "outputs": [],
      "execution_count": null
    },
    {
      "id": "0856bd56",
      "cell_type": "markdown",
      "source": "### Q2\n\nDesenvolva uma função em Python chamada ```tem_elementos_comuns()``` que recebe duas listas como parâmetros e retorna True se houver algum elemento comum entre as duas listas, e False caso contrário. Utilize sets para resolver essa tarefa.",
      "metadata": {}
    },
    {
      "id": "f7ab6736",
      "cell_type": "code",
      "source": "def tem_elementos_comuns(lista1, lista2):\n    return bool(set(lista1) & set(lista2))\n",
      "metadata": {},
      "outputs": [],
      "execution_count": null
    },
    {
      "id": "1022744a",
      "cell_type": "code",
      "source": "# Testando a função\nlista1 = [1, 2, 3, 4]\nlista2 = [3, 4, 5, 6, 7]\nresultado = tem_elementos_comuns(lista1, lista2)\nprint(resultado)  # Saída esperada: True",
      "metadata": {},
      "outputs": [],
      "execution_count": null
    },
    {
      "id": "649a5082",
      "cell_type": "markdown",
      "source": "### Q3. \n\nVocê vai coletar de diferentes turmas de alunos seus interesses em atividades extra curriculares dentre futebol, vôlei, rugby, música, teatro, ações comunitárias. Informe o conjunto de atividades comuns a todas a turmas. Pode preencher o iterável turmas com valores arbitrários. \n",
      "metadata": {}
    },
    {
      "id": "880a9927",
      "cell_type": "code",
      "source": "turmas = [\n     {'ações comunitárias', 'futebol', 'música', 'rugby'},\n     {'ações comunitárias', 'música', 'rugby', 'teatro'},\n     {'música', 'rugby', 'teatro', 'vôlei'},\n     {'música', 'vôlei', 'rugby'},\n     {'ações comunitárias', 'futebol', 'rugby', 'teatro', 'vôlei'},\n     {'ações comunitárias', 'futebol', 'rugby'},\n     {'ações comunitárias', 'rugby', 'teatro', 'vôlei'},\n     {'ações comunitárias', 'rugby', 'teatro', 'vôlei'},\n     {'ações comunitárias', 'rugby', 'vôlei'}\n]\n\n# Solução:\natividades_comuns = set.intersection(*turmas)\nprint(atividades_comuns)\n\n\n",
      "metadata": {},
      "outputs": [],
      "execution_count": null
    },
    {
      "id": "021e2b1e",
      "cell_type": "markdown",
      "source": "### Q4. \nConsidere duas listas que são duplicatas uma da outra, exceto por um elemento, exemplo:\n```\nA = [1, 4, 5, 7, 9]\nB = [4, 5, 7, 9]\n```\n\nEncontre e apresente o elemento diferente, informando também qual das listas está desfalcada. Para o exemplo acima, a saída esperada é\n```\nO elemento 1 está faltando na segunda lista\n```",
      "metadata": {}
    },
    {
      "id": "608761a4",
      "cell_type": "code",
      "source": "A = [1, 4, 5, 7, 9]\nB = [4, 5, 7, 9]\n\n# Solução:\ndef elemento_faltante(lista1, lista2):\n    diff = set(lista1) - set(lista2)\n    if diff:\n        print(f\"O elemento {diff.pop()} está faltando na segunda lista\")\n    else:\n        diff = set(lista2) - set(lista1)\n        if diff:\n            print(f\"O elemento {diff.pop()} está faltando na primeira lista\")\n\nelemento_faltante(A, B)\n",
      "metadata": {},
      "outputs": [],
      "execution_count": null
    },
    {
      "id": "ddf180c1",
      "cell_type": "markdown",
      "source": "### Q5.\n\nPanagramas são frases que contém todas as letras do alfabeto pelo menos uma vez. Crie uma função ```checa_panagrama``` que recebe uma string e retorna ```True``` caso seja um panagrama ou ```False```caso contrário. Use seu conhecimento de sets para solucionar essa questão.\n\nEx: \n```\nEntrada: \"The quick brown fox jumps over the lazy dog\" \nSaída: É um panagrama\n```\n\n```\nEntrada: \"Python é uma linguagem de programação\" \nSaída: Não é um panagrama\n```",
      "metadata": {}
    },
    {
      "id": "4e8b0390",
      "cell_type": "code",
      "source": "import string\n\ndef checa_panagrama(frase):\n    alfabeto = set(string.ascii_lowercase)\n    return alfabeto <= set(frase.lower())\n\n# Testando a função\nfrase1 = \"The quick brown fox jumps over the lazy dog\"\nfrase2 = \"Python é uma linguagem de programação\"\nprint(checa_panagrama(frase1))  # Saída esperada: True\nprint(checa_panagrama(frase2))  # Saída esperada: False\n",
      "metadata": {},
      "outputs": [],
      "execution_count": null
    }
  ]
}